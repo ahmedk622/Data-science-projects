# Netflix Movies EDA
import pandas as pd
import matplotlib.pyplot as plt

df = pd.read_csv('netflix_titles.csv')
print(df.head())
df['release_year'].value_counts().sort_index().plot(kind='bar', figsize=(15,5), title='Releases per Year')
plt.show()
